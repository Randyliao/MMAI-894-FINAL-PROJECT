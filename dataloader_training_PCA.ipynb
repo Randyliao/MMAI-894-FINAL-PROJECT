{
  "nbformat": 4,
  "nbformat_minor": 0,
  "metadata": {
    "colab": {
      "name": "dataloader_training_PCA.ipynb",
      "provenance": [],
      "collapsed_sections": [],
      "toc_visible": true
    },
    "kernelspec": {
      "name": "python3",
      "display_name": "Python 3"
    },
    "accelerator": "GPU",
    "widgets": {
      "application/vnd.jupyter.widget-state+json": {
        "d6d69926b2dd4b5caf028efaf50089e3": {
          "model_module": "@jupyter-widgets/controls",
          "model_name": "HBoxModel",
          "state": {
            "_view_name": "HBoxView",
            "_dom_classes": [],
            "_model_name": "HBoxModel",
            "_view_module": "@jupyter-widgets/controls",
            "_model_module_version": "1.5.0",
            "_view_count": null,
            "_view_module_version": "1.5.0",
            "box_style": "",
            "layout": "IPY_MODEL_481b680b18fc4c45bb7d68015fddbda3",
            "_model_module": "@jupyter-widgets/controls",
            "children": [
              "IPY_MODEL_6f6de3c77519402cb13071fff5c957b4",
              "IPY_MODEL_06743f4a4bcc41368a67dac09501882f"
            ]
          }
        },
        "481b680b18fc4c45bb7d68015fddbda3": {
          "model_module": "@jupyter-widgets/base",
          "model_name": "LayoutModel",
          "state": {
            "_view_name": "LayoutView",
            "grid_template_rows": null,
            "right": null,
            "justify_content": null,
            "_view_module": "@jupyter-widgets/base",
            "overflow": null,
            "_model_module_version": "1.2.0",
            "_view_count": null,
            "flex_flow": null,
            "width": null,
            "min_width": null,
            "border": null,
            "align_items": null,
            "bottom": null,
            "_model_module": "@jupyter-widgets/base",
            "top": null,
            "grid_column": null,
            "overflow_y": null,
            "overflow_x": null,
            "grid_auto_flow": null,
            "grid_area": null,
            "grid_template_columns": null,
            "flex": null,
            "_model_name": "LayoutModel",
            "justify_items": null,
            "grid_row": null,
            "max_height": null,
            "align_content": null,
            "visibility": null,
            "align_self": null,
            "height": null,
            "min_height": null,
            "padding": null,
            "grid_auto_rows": null,
            "grid_gap": null,
            "max_width": null,
            "order": null,
            "_view_module_version": "1.2.0",
            "grid_template_areas": null,
            "object_position": null,
            "object_fit": null,
            "grid_auto_columns": null,
            "margin": null,
            "display": null,
            "left": null
          }
        },
        "6f6de3c77519402cb13071fff5c957b4": {
          "model_module": "@jupyter-widgets/controls",
          "model_name": "IntProgressModel",
          "state": {
            "_view_name": "ProgressView",
            "style": "IPY_MODEL_62949b0992eb4c0eaabe6a25b16c7813",
            "_dom_classes": [],
            "description": "",
            "_model_name": "IntProgressModel",
            "bar_style": "success",
            "max": 553433881,
            "_view_module": "@jupyter-widgets/controls",
            "_model_module_version": "1.5.0",
            "value": 553433881,
            "_view_count": null,
            "_view_module_version": "1.5.0",
            "orientation": "horizontal",
            "min": 0,
            "description_tooltip": null,
            "_model_module": "@jupyter-widgets/controls",
            "layout": "IPY_MODEL_cd33091d5d3448f7bc4e8be53a6ee06e"
          }
        },
        "06743f4a4bcc41368a67dac09501882f": {
          "model_module": "@jupyter-widgets/controls",
          "model_name": "HTMLModel",
          "state": {
            "_view_name": "HTMLView",
            "style": "IPY_MODEL_3c6c5c56e57b4fc0a51daff693bcbf08",
            "_dom_classes": [],
            "description": "",
            "_model_name": "HTMLModel",
            "placeholder": "​",
            "_view_module": "@jupyter-widgets/controls",
            "_model_module_version": "1.5.0",
            "value": "100% 528M/528M [00:11&lt;00:00, 48.4MB/s]",
            "_view_count": null,
            "_view_module_version": "1.5.0",
            "description_tooltip": null,
            "_model_module": "@jupyter-widgets/controls",
            "layout": "IPY_MODEL_b666a839f3f64655b624a4834c07ce8d"
          }
        },
        "62949b0992eb4c0eaabe6a25b16c7813": {
          "model_module": "@jupyter-widgets/controls",
          "model_name": "ProgressStyleModel",
          "state": {
            "_view_name": "StyleView",
            "_model_name": "ProgressStyleModel",
            "description_width": "",
            "_view_module": "@jupyter-widgets/base",
            "_model_module_version": "1.5.0",
            "_view_count": null,
            "_view_module_version": "1.2.0",
            "bar_color": null,
            "_model_module": "@jupyter-widgets/controls"
          }
        },
        "cd33091d5d3448f7bc4e8be53a6ee06e": {
          "model_module": "@jupyter-widgets/base",
          "model_name": "LayoutModel",
          "state": {
            "_view_name": "LayoutView",
            "grid_template_rows": null,
            "right": null,
            "justify_content": null,
            "_view_module": "@jupyter-widgets/base",
            "overflow": null,
            "_model_module_version": "1.2.0",
            "_view_count": null,
            "flex_flow": null,
            "width": null,
            "min_width": null,
            "border": null,
            "align_items": null,
            "bottom": null,
            "_model_module": "@jupyter-widgets/base",
            "top": null,
            "grid_column": null,
            "overflow_y": null,
            "overflow_x": null,
            "grid_auto_flow": null,
            "grid_area": null,
            "grid_template_columns": null,
            "flex": null,
            "_model_name": "LayoutModel",
            "justify_items": null,
            "grid_row": null,
            "max_height": null,
            "align_content": null,
            "visibility": null,
            "align_self": null,
            "height": null,
            "min_height": null,
            "padding": null,
            "grid_auto_rows": null,
            "grid_gap": null,
            "max_width": null,
            "order": null,
            "_view_module_version": "1.2.0",
            "grid_template_areas": null,
            "object_position": null,
            "object_fit": null,
            "grid_auto_columns": null,
            "margin": null,
            "display": null,
            "left": null
          }
        },
        "3c6c5c56e57b4fc0a51daff693bcbf08": {
          "model_module": "@jupyter-widgets/controls",
          "model_name": "DescriptionStyleModel",
          "state": {
            "_view_name": "StyleView",
            "_model_name": "DescriptionStyleModel",
            "description_width": "",
            "_view_module": "@jupyter-widgets/base",
            "_model_module_version": "1.5.0",
            "_view_count": null,
            "_view_module_version": "1.2.0",
            "_model_module": "@jupyter-widgets/controls"
          }
        },
        "b666a839f3f64655b624a4834c07ce8d": {
          "model_module": "@jupyter-widgets/base",
          "model_name": "LayoutModel",
          "state": {
            "_view_name": "LayoutView",
            "grid_template_rows": null,
            "right": null,
            "justify_content": null,
            "_view_module": "@jupyter-widgets/base",
            "overflow": null,
            "_model_module_version": "1.2.0",
            "_view_count": null,
            "flex_flow": null,
            "width": null,
            "min_width": null,
            "border": null,
            "align_items": null,
            "bottom": null,
            "_model_module": "@jupyter-widgets/base",
            "top": null,
            "grid_column": null,
            "overflow_y": null,
            "overflow_x": null,
            "grid_auto_flow": null,
            "grid_area": null,
            "grid_template_columns": null,
            "flex": null,
            "_model_name": "LayoutModel",
            "justify_items": null,
            "grid_row": null,
            "max_height": null,
            "align_content": null,
            "visibility": null,
            "align_self": null,
            "height": null,
            "min_height": null,
            "padding": null,
            "grid_auto_rows": null,
            "grid_gap": null,
            "max_width": null,
            "order": null,
            "_view_module_version": "1.2.0",
            "grid_template_areas": null,
            "object_position": null,
            "object_fit": null,
            "grid_auto_columns": null,
            "margin": null,
            "display": null,
            "left": null
          }
        },
        "ef168002e3734c3f8a3c0579d4616c3b": {
          "model_module": "@jupyter-widgets/controls",
          "model_name": "HBoxModel",
          "state": {
            "_view_name": "HBoxView",
            "_dom_classes": [],
            "_model_name": "HBoxModel",
            "_view_module": "@jupyter-widgets/controls",
            "_model_module_version": "1.5.0",
            "_view_count": null,
            "_view_module_version": "1.5.0",
            "box_style": "",
            "layout": "IPY_MODEL_07fc2621f72e4eeda1d62035d8f1950d",
            "_model_module": "@jupyter-widgets/controls",
            "children": [
              "IPY_MODEL_245caf5f40c749ea8ac4c20f3d70a15d",
              "IPY_MODEL_941b86df50844de8a99c8948a9bc9a5a"
            ]
          }
        },
        "07fc2621f72e4eeda1d62035d8f1950d": {
          "model_module": "@jupyter-widgets/base",
          "model_name": "LayoutModel",
          "state": {
            "_view_name": "LayoutView",
            "grid_template_rows": null,
            "right": null,
            "justify_content": null,
            "_view_module": "@jupyter-widgets/base",
            "overflow": null,
            "_model_module_version": "1.2.0",
            "_view_count": null,
            "flex_flow": null,
            "width": null,
            "min_width": null,
            "border": null,
            "align_items": null,
            "bottom": null,
            "_model_module": "@jupyter-widgets/base",
            "top": null,
            "grid_column": null,
            "overflow_y": null,
            "overflow_x": null,
            "grid_auto_flow": null,
            "grid_area": null,
            "grid_template_columns": null,
            "flex": null,
            "_model_name": "LayoutModel",
            "justify_items": null,
            "grid_row": null,
            "max_height": null,
            "align_content": null,
            "visibility": null,
            "align_self": null,
            "height": null,
            "min_height": null,
            "padding": null,
            "grid_auto_rows": null,
            "grid_gap": null,
            "max_width": null,
            "order": null,
            "_view_module_version": "1.2.0",
            "grid_template_areas": null,
            "object_position": null,
            "object_fit": null,
            "grid_auto_columns": null,
            "margin": null,
            "display": null,
            "left": null
          }
        },
        "245caf5f40c749ea8ac4c20f3d70a15d": {
          "model_module": "@jupyter-widgets/controls",
          "model_name": "IntProgressModel",
          "state": {
            "_view_name": "ProgressView",
            "style": "IPY_MODEL_3cd8fc2c4c544535a0bb012197e8af1e",
            "_dom_classes": [],
            "description": "",
            "_model_name": "IntProgressModel",
            "bar_style": "success",
            "max": 244418560,
            "_view_module": "@jupyter-widgets/controls",
            "_model_module_version": "1.5.0",
            "value": 244418560,
            "_view_count": null,
            "_view_module_version": "1.5.0",
            "orientation": "horizontal",
            "min": 0,
            "description_tooltip": null,
            "_model_module": "@jupyter-widgets/controls",
            "layout": "IPY_MODEL_a99119b1ee3240eca3761359a72a3bf4"
          }
        },
        "941b86df50844de8a99c8948a9bc9a5a": {
          "model_module": "@jupyter-widgets/controls",
          "model_name": "HTMLModel",
          "state": {
            "_view_name": "HTMLView",
            "style": "IPY_MODEL_4191440c146b4671a188328408c3a00b",
            "_dom_classes": [],
            "description": "",
            "_model_name": "HTMLModel",
            "placeholder": "​",
            "_view_module": "@jupyter-widgets/controls",
            "_model_module_version": "1.5.0",
            "value": "100% 233M/233M [00:03&lt;00:00, 63.6MB/s]",
            "_view_count": null,
            "_view_module_version": "1.5.0",
            "description_tooltip": null,
            "_model_module": "@jupyter-widgets/controls",
            "layout": "IPY_MODEL_69ba5ec75c0044ceb279dc9a0484a367"
          }
        },
        "3cd8fc2c4c544535a0bb012197e8af1e": {
          "model_module": "@jupyter-widgets/controls",
          "model_name": "ProgressStyleModel",
          "state": {
            "_view_name": "StyleView",
            "_model_name": "ProgressStyleModel",
            "description_width": "",
            "_view_module": "@jupyter-widgets/base",
            "_model_module_version": "1.5.0",
            "_view_count": null,
            "_view_module_version": "1.2.0",
            "bar_color": null,
            "_model_module": "@jupyter-widgets/controls"
          }
        },
        "a99119b1ee3240eca3761359a72a3bf4": {
          "model_module": "@jupyter-widgets/base",
          "model_name": "LayoutModel",
          "state": {
            "_view_name": "LayoutView",
            "grid_template_rows": null,
            "right": null,
            "justify_content": null,
            "_view_module": "@jupyter-widgets/base",
            "overflow": null,
            "_model_module_version": "1.2.0",
            "_view_count": null,
            "flex_flow": null,
            "width": null,
            "min_width": null,
            "border": null,
            "align_items": null,
            "bottom": null,
            "_model_module": "@jupyter-widgets/base",
            "top": null,
            "grid_column": null,
            "overflow_y": null,
            "overflow_x": null,
            "grid_auto_flow": null,
            "grid_area": null,
            "grid_template_columns": null,
            "flex": null,
            "_model_name": "LayoutModel",
            "justify_items": null,
            "grid_row": null,
            "max_height": null,
            "align_content": null,
            "visibility": null,
            "align_self": null,
            "height": null,
            "min_height": null,
            "padding": null,
            "grid_auto_rows": null,
            "grid_gap": null,
            "max_width": null,
            "order": null,
            "_view_module_version": "1.2.0",
            "grid_template_areas": null,
            "object_position": null,
            "object_fit": null,
            "grid_auto_columns": null,
            "margin": null,
            "display": null,
            "left": null
          }
        },
        "4191440c146b4671a188328408c3a00b": {
          "model_module": "@jupyter-widgets/controls",
          "model_name": "DescriptionStyleModel",
          "state": {
            "_view_name": "StyleView",
            "_model_name": "DescriptionStyleModel",
            "description_width": "",
            "_view_module": "@jupyter-widgets/base",
            "_model_module_version": "1.5.0",
            "_view_count": null,
            "_view_module_version": "1.2.0",
            "_model_module": "@jupyter-widgets/controls"
          }
        },
        "69ba5ec75c0044ceb279dc9a0484a367": {
          "model_module": "@jupyter-widgets/base",
          "model_name": "LayoutModel",
          "state": {
            "_view_name": "LayoutView",
            "grid_template_rows": null,
            "right": null,
            "justify_content": null,
            "_view_module": "@jupyter-widgets/base",
            "overflow": null,
            "_model_module_version": "1.2.0",
            "_view_count": null,
            "flex_flow": null,
            "width": null,
            "min_width": null,
            "border": null,
            "align_items": null,
            "bottom": null,
            "_model_module": "@jupyter-widgets/base",
            "top": null,
            "grid_column": null,
            "overflow_y": null,
            "overflow_x": null,
            "grid_auto_flow": null,
            "grid_area": null,
            "grid_template_columns": null,
            "flex": null,
            "_model_name": "LayoutModel",
            "justify_items": null,
            "grid_row": null,
            "max_height": null,
            "align_content": null,
            "visibility": null,
            "align_self": null,
            "height": null,
            "min_height": null,
            "padding": null,
            "grid_auto_rows": null,
            "grid_gap": null,
            "max_width": null,
            "order": null,
            "_view_module_version": "1.2.0",
            "grid_template_areas": null,
            "object_position": null,
            "object_fit": null,
            "grid_auto_columns": null,
            "margin": null,
            "display": null,
            "left": null
          }
        }
      }
    }
  },
  "cells": [
    {
      "cell_type": "code",
      "metadata": {
        "id": "jD4d1pOt5iCX",
        "colab_type": "code",
        "outputId": "593b79ce-b8b0-45e0-cf78-57f2ef6970a6",
        "colab": {
          "base_uri": "https://localhost:8080/",
          "height": 63
        }
      },
      "source": [
        "!pip install torch"
      ],
      "execution_count": 0,
      "outputs": [
        {
          "output_type": "stream",
          "text": [
            "Requirement already satisfied: torch in /usr/local/lib/python3.6/dist-packages (1.4.0)\n"
          ],
          "name": "stdout"
        }
      ]
    },
    {
      "cell_type": "code",
      "metadata": {
        "id": "dEJ1R8Ng6Azn",
        "colab_type": "code",
        "outputId": "9ff6691b-baf8-4f61-d952-c71f14f07b2a",
        "colab": {
          "base_uri": "https://localhost:8080/",
          "height": 153
        }
      },
      "source": [
        "!apt-get install graphviz -y"
      ],
      "execution_count": 0,
      "outputs": [
        {
          "output_type": "stream",
          "text": [
            "Reading package lists... Done\n",
            "Building dependency tree       \n",
            "Reading state information... Done\n",
            "graphviz is already the newest version (2.40.1-2).\n",
            "The following package was automatically installed and is no longer required:\n",
            "  libnvidia-common-430\n",
            "Use 'apt autoremove' to remove it.\n",
            "0 upgraded, 0 newly installed, 0 to remove and 25 not upgraded.\n"
          ],
          "name": "stdout"
        }
      ]
    },
    {
      "cell_type": "code",
      "metadata": {
        "id": "bZKnwUv3DbgP",
        "colab_type": "code",
        "colab": {}
      },
      "source": [
        "from skimage.io import imread\n",
        "from skimage.transform import resize\n",
        "from tqdm import tqdm\n",
        "import numpy as np\n",
        "import matplotlib.pyplot as plt\n",
        "from glob import glob\n",
        "from PIL import Image\n",
        "import pandas as pd\n",
        "from time import time\n",
        "from sklearn.model_selection import train_test_split\n",
        "import torch\n",
        "import torch.nn as nn\n",
        "import torch.nn.functional as F\n",
        "import torch.optim as optim\n",
        "from torch.utils.data import DataLoader\n",
        "from torch.autograd import Variable\n",
        "from sklearn.preprocessing import LabelEncoder\n",
        "import os\n",
        "from torchvision import models, transforms, datasets\n",
        "from torch.nn import Linear, ReLU, CrossEntropyLoss, Sequential, Conv2d, MaxPool2d, Module, Softmax, BatchNorm2d, Dropout\n",
        "from torch.optim import Adam, SGD\n",
        "from sklearn.metrics import accuracy_score\n",
        "from torchsummary import summary\n",
        "from torch.utils.data import DataLoader, sampler\n",
        "import seaborn as sns\n",
        "from IPython.core.interactiveshell import InteractiveShell\n",
        "InteractiveShell.ast_node_interactivity = 'all'\n",
        "from timeit import default_timer as timer\n"
      ],
      "execution_count": 0,
      "outputs": []
    },
    {
      "cell_type": "code",
      "metadata": {
        "id": "WeWyRYKrmCQH",
        "colab_type": "code",
        "outputId": "66db50e1-89c4-408d-8c72-b79011391b62",
        "colab": {
          "base_uri": "https://localhost:8080/",
          "height": 189
        }
      },
      "source": [
        "from google.colab import drive\n",
        "drive.mount('/content/drive')"
      ],
      "execution_count": 0,
      "outputs": [
        {
          "output_type": "stream",
          "text": [
            "Go to this URL in a browser: https://accounts.google.com/o/oauth2/auth?client_id=947318989803-6bn6qk8qdgf4n4g3pfee6491hc0brc4i.apps.googleusercontent.com&redirect_uri=urn%3aietf%3awg%3aoauth%3a2.0%3aoob&response_type=code&scope=email%20https%3a%2f%2fwww.googleapis.com%2fauth%2fdocs.test%20https%3a%2f%2fwww.googleapis.com%2fauth%2fdrive%20https%3a%2f%2fwww.googleapis.com%2fauth%2fdrive.photos.readonly%20https%3a%2f%2fwww.googleapis.com%2fauth%2fpeopleapi.readonly\n",
            "\n",
            "Enter your authorization code:\n",
            "··········\n",
            "Mounted at /content/drive\n"
          ],
          "name": "stdout"
        }
      ]
    },
    {
      "cell_type": "code",
      "metadata": {
        "id": "RNNGmM9Km-lX",
        "colab_type": "code",
        "colab": {}
      },
      "source": [
        "#!unzip -uq \"/content/drive/My Drive/car_images_no_int_BMW_Audi 2.zip\" -d \"/content/imagine\""
      ],
      "execution_count": 0,
      "outputs": []
    },
    {
      "cell_type": "code",
      "metadata": {
        "id": "sSvv43BxrXlt",
        "colab_type": "code",
        "colab": {}
      },
      "source": [
        "#path configuration\n",
        "#parent_dir = '/content/drive/My Drive/thecarconnectionpicturedataset2'"
      ],
      "execution_count": 0,
      "outputs": []
    },
    {
      "cell_type": "code",
      "metadata": {
        "id": "r768F2RUsMUG",
        "colab_type": "code",
        "outputId": "4e2c7f08-151b-4f88-b6cc-ea62383d24d0",
        "colab": {
          "base_uri": "https://localhost:8080/",
          "height": 34
        }
      },
      "source": [
        "%cd '/content/drive/My Drive/thecarconnectionpicturedataset2'"
      ],
      "execution_count": 0,
      "outputs": [
        {
          "output_type": "stream",
          "text": [
            "/content/drive/My Drive/thecarconnectionpicturedataset2\n"
          ],
          "name": "stdout"
        }
      ]
    },
    {
      "cell_type": "code",
      "metadata": {
        "id": "9swo1dFksUqj",
        "colab_type": "code",
        "outputId": "34838faa-73de-4167-8cf7-c4c22b2fbc9a",
        "colab": {
          "base_uri": "https://localhost:8080/",
          "height": 34
        }
      },
      "source": [
        "%pwd "
      ],
      "execution_count": 0,
      "outputs": [
        {
          "output_type": "execute_result",
          "data": {
            "text/plain": [
              "'/content/drive/My Drive/thecarconnectionpicturedataset2'"
            ]
          },
          "metadata": {
            "tags": []
          },
          "execution_count": 6
        }
      ]
    },
    {
      "cell_type": "code",
      "metadata": {
        "id": "kLBpxl5grt7E",
        "colab_type": "code",
        "colab": {}
      },
      "source": [
        "# Location of data\n",
        "dataset='thecarconnectionpicturedataset2'\n",
        "datadir = '/content/drive/My Drive/thecarconnectionpicturedataset2/'\n",
        "traindir = datadir + 'trainpca'\n",
        "validdir = datadir + 'valid'\n",
        "testdir = datadir + 'test'"
      ],
      "execution_count": 0,
      "outputs": []
    },
    {
      "cell_type": "code",
      "metadata": {
        "id": "dRSeJBI7sLEi",
        "colab_type": "code",
        "colab": {}
      },
      "source": [
        "image_transforms={\n",
        "    'train':\n",
        "    transforms.Compose([\n",
        "        transforms.Resize(size=256),          \n",
        "        transforms.RandomHorizontalFlip(),\n",
        "        transforms.CenterCrop(size=224),  #removed color jogger because we've already preprocessed pictures by PCA\n",
        "        transforms.ToTensor(),\n",
        "        transforms.Normalize([0.485, 0.456, 0.406],\n",
        "                             [0.229, 0.224, 0.225])\n",
        "    ]),\n",
        "    'val':\n",
        "    transforms.Compose([\n",
        "        transforms.Resize(size=256),\n",
        "        transforms.CenterCrop(size=224),\n",
        "        transforms.ToTensor(),\n",
        "        transforms.Normalize([0.485, 0.456, 0.406],\n",
        "                             [0.229, 0.224, 0.225])\n",
        "    \n",
        "    ]),\n",
        "    'test' :\n",
        "    transforms.Compose([\n",
        "        transforms.Resize(size=256),\n",
        "        transforms.CenterCrop(size=224),\n",
        "        transforms.ToTensor(),\n",
        "        transforms.Normalize([0.485, 0.456, 0.406],\n",
        "                             [0.229, 0.224, 0.225])\n",
        "    ])\n",
        "}"
      ],
      "execution_count": 0,
      "outputs": []
    },
    {
      "cell_type": "code",
      "metadata": {
        "id": "yKAAc5lCvVS7",
        "colab_type": "code",
        "colab": {}
      },
      "source": [
        "data={\n",
        "    'train':\n",
        "    datasets.ImageFolder(root=traindir,transform=image_transforms['train']),\n",
        "    'val':\n",
        "    datasets.ImageFolder(root=validdir,transform=image_transforms['val']),\n",
        "    'test':\n",
        "    datasets.ImageFolder(root=testdir,transform=image_transforms['test'])\n",
        "}\n",
        "\n",
        "dataloaders= {\n",
        "    'train': DataLoader(data['train'],shuffle=True,batch_size=128),\n",
        "    'val' : DataLoader(data['val'],shuffle=True,batch_size=128),\n",
        "    'test' : DataLoader(data['test'],shuffle=True,batch_size=128)\n",
        "}"
      ],
      "execution_count": 0,
      "outputs": []
    },
    {
      "cell_type": "code",
      "metadata": {
        "id": "O1YfJ3ubOUOw",
        "colab_type": "code",
        "colab": {}
      },
      "source": [
        "train_data_size = len(data['train'])\n",
        "valid_data_size = len(data['val'])\n",
        "test_data_size = len(data['test'])\n",
        "\n",
        "\n",
        "train_data_loader = dataloaders['train']\n",
        "valid_data_loader = dataloaders['val']\n",
        "test_data_loader = dataloaders['test']"
      ],
      "execution_count": 0,
      "outputs": []
    },
    {
      "cell_type": "markdown",
      "metadata": {
        "id": "cUzqPALi_0yD",
        "colab_type": "text"
      },
      "source": [
        "# New Section"
      ]
    },
    {
      "cell_type": "code",
      "metadata": {
        "id": "_2pb012B2-TU",
        "colab_type": "code",
        "outputId": "b56a3744-a597-4f1d-d1c9-4c9380f276e2",
        "colab": {
          "base_uri": "https://localhost:8080/",
          "height": 34
        }
      },
      "source": [
        "trainiter = iter(dataloaders['train'])\n",
        "features, labels = next(trainiter)\n",
        "features.shape, labels.shape"
      ],
      "execution_count": 0,
      "outputs": [
        {
          "output_type": "execute_result",
          "data": {
            "text/plain": [
              "(torch.Size([128, 3, 224, 224]), torch.Size([128]))"
            ]
          },
          "metadata": {
            "tags": []
          },
          "execution_count": 10
        }
      ]
    },
    {
      "cell_type": "code",
      "metadata": {
        "id": "QGXcAfq-t6FQ",
        "colab_type": "code",
        "outputId": "92005655-a125-436c-e8d3-23f34564166a",
        "colab": {
          "base_uri": "https://localhost:8080/",
          "height": 83,
          "referenced_widgets": [
            "d6d69926b2dd4b5caf028efaf50089e3",
            "481b680b18fc4c45bb7d68015fddbda3",
            "6f6de3c77519402cb13071fff5c957b4",
            "06743f4a4bcc41368a67dac09501882f",
            "62949b0992eb4c0eaabe6a25b16c7813",
            "cd33091d5d3448f7bc4e8be53a6ee06e",
            "3c6c5c56e57b4fc0a51daff693bcbf08",
            "b666a839f3f64655b624a4834c07ce8d"
          ]
        }
      },
      "source": [
        "# loading the pretrained model\n",
        "model_1 = models.vgg16(pretrained=True)"
      ],
      "execution_count": 0,
      "outputs": [
        {
          "output_type": "stream",
          "text": [
            "Downloading: \"https://download.pytorch.org/models/vgg16-397923af.pth\" to /root/.cache/torch/checkpoints/vgg16-397923af.pth\n"
          ],
          "name": "stderr"
        },
        {
          "output_type": "display_data",
          "data": {
            "application/vnd.jupyter.widget-view+json": {
              "model_id": "d6d69926b2dd4b5caf028efaf50089e3",
              "version_minor": 0,
              "version_major": 2
            },
            "text/plain": [
              "HBox(children=(IntProgress(value=0, max=553433881), HTML(value='')))"
            ]
          },
          "metadata": {
            "tags": []
          }
        },
        {
          "output_type": "stream",
          "text": [
            "\n"
          ],
          "name": "stdout"
        }
      ]
    },
    {
      "cell_type": "code",
      "metadata": {
        "id": "qcjRjVYgt8P4",
        "colab_type": "code",
        "colab": {}
      },
      "source": [
        "# Freeze model weights\n",
        "for parameter in model_1.parameters():\n",
        "    parameter.requires_grad = False"
      ],
      "execution_count": 0,
      "outputs": []
    },
    {
      "cell_type": "code",
      "metadata": {
        "id": "vA6gUcnyxtnL",
        "colab_type": "code",
        "colab": {}
      },
      "source": [
        "# Add on classifier\n",
        "model_1.classifier[6] = nn.Sequential(\n",
        "    nn.Linear(4096, 256), nn.ReLU(),\n",
        "    nn.Linear(256, 2),nn.LogSoftmax(dim=1))\n",
        "\n",
        "for parameter in model_1.classifier[6].parameters():\n",
        "    parameter.requires_grad = True"
      ],
      "execution_count": 0,
      "outputs": []
    },
    {
      "cell_type": "code",
      "metadata": {
        "id": "UaPfClX4_o9E",
        "colab_type": "code",
        "outputId": "999c9a9f-01e4-4274-ae04-ca886f12285e",
        "colab": {
          "base_uri": "https://localhost:8080/",
          "height": 255
        }
      },
      "source": [
        "model_1.classifier"
      ],
      "execution_count": 0,
      "outputs": [
        {
          "output_type": "execute_result",
          "data": {
            "text/plain": [
              "Sequential(\n",
              "  (0): Linear(in_features=25088, out_features=4096, bias=True)\n",
              "  (1): ReLU(inplace=True)\n",
              "  (2): Dropout(p=0.5, inplace=False)\n",
              "  (3): Linear(in_features=4096, out_features=4096, bias=True)\n",
              "  (4): ReLU(inplace=True)\n",
              "  (5): Dropout(p=0.5, inplace=False)\n",
              "  (6): Sequential(\n",
              "    (0): Linear(in_features=4096, out_features=256, bias=True)\n",
              "    (1): ReLU()\n",
              "    (2): Linear(in_features=256, out_features=2, bias=True)\n",
              "    (3): LogSoftmax()\n",
              "  )\n",
              ")"
            ]
          },
          "metadata": {
            "tags": []
          },
          "execution_count": 13
        }
      ]
    },
    {
      "cell_type": "code",
      "metadata": {
        "id": "h_66b6D8xwRc",
        "colab_type": "code",
        "colab": {}
      },
      "source": [
        "# checking if GPU is available if yes, then running on gpu\n",
        "if torch.cuda.is_available():\n",
        "    model_1 = model_1.cuda()"
      ],
      "execution_count": 0,
      "outputs": []
    },
    {
      "cell_type": "code",
      "metadata": {
        "id": "l4Ivwf0eWmK3",
        "colab_type": "code",
        "colab": {}
      },
      "source": [
        "import torch.optim as optim\n",
        "\n",
        "# specify loss function (categorical cross-entropy)\n",
        "loss_criterion = nn.NLLLoss()\n",
        "\n",
        "# specify optimizer (stochastic gradient descent) and learning rate\n",
        "# gradient descent on the layer that we customized in transfer learning\n",
        "optimizer = optim.Adam(model_2.classifier.parameters())"
      ],
      "execution_count": 0,
      "outputs": []
    },
    {
      "cell_type": "code",
      "metadata": {
        "id": "_6YbZYX1l5fA",
        "colab_type": "code",
        "colab": {}
      },
      "source": [
        "def train_and_validate(model, loss_criterion, optimizer, epochs=20):\n",
        "  start = time.time\n",
        "  history=[]\n",
        "  best_acc=0.0\n",
        "  \n",
        "\n",
        "  for epoch in range(epochs):\n",
        "    epoch_start = time.time()\n",
        "    print(\"Epoch: {}/{}\".format(epoch+1, epochs))\n",
        "\n",
        "    model.train()\n",
        "\n",
        "    train_loss=0.0\n",
        "    train_acc=0.0\n",
        "    valid_loss=0.0\n",
        "    valid_acc=0.0\n",
        "    for i,(inputs,labels) in enumerate(train_data_loader):\n",
        "      inputs=inputs.cuda()\n",
        "      labels=labels.cuda()\n",
        "      optimizer.zero_grad()\n",
        "      outputs=model(inputs)\n",
        "      loss=loss_criterion(outputs,labels)\n",
        "      loss.backward()\n",
        "      optimizer.step()\n",
        "      train_loss += loss.item() * inputs.size(0)\n",
        "      ret, predictions = torch.max(outputs.data, 1)\n",
        "      correct_counts = predictions.eq(labels.data.view_as(predictions))\n",
        "      acc = torch.mean(correct_counts.type(torch.FloatTensor))\n",
        "      train_acc += acc.item() * inputs.size(0)\n",
        "    with torch.no_grad():\n",
        "      model.eval()\n",
        "      for j, (inputs, labels) in enumerate(valid_data_loader):\n",
        "        inputs = inputs.cuda()\n",
        "        labels = labels.cuda()\n",
        "        outputs = model(inputs)\n",
        "        loss = loss_criterion(outputs, labels)\n",
        "        valid_loss += loss.item() * inputs.size(0)\n",
        "        ret, predictions = torch.max(outputs.data, 1)\n",
        "        correct_counts = predictions.eq(labels.data.view_as(predictions))\n",
        "        acc = torch.mean(correct_counts.type(torch.FloatTensor))\n",
        "        valid_acc += acc.item() * inputs.size(0)\n",
        "    avg_train_loss = train_loss/train_data_size\n",
        "    avg_train_acc = train_acc/train_data_size\n",
        "    avg_valid_loss = valid_loss/valid_data_size \n",
        "    avg_valid_acc = valid_acc/valid_data_size\n",
        "    history.append([avg_train_loss, avg_valid_loss, avg_train_acc, avg_valid_acc])\n",
        "    epoch_end = time.time()\n",
        "    print(\"Epoch : {:03d}, Training: Loss: {:.4f}, Accuracy: {:.4f}%, \\n\\t\\tValidation : Loss : {:.4f}, Accuracy: {:.4f}%, Time: {:.4f}s\".format(epoch, avg_train_loss, avg_train_acc*100, avg_valid_loss, avg_valid_acc*100, epoch_end-epoch_start))\n",
        "    torch.save(model, dataset+'_alexnetwithpca_'+str(epoch)+'.pt')\n",
        "    \n",
        "    \n",
        "\n",
        "  return model, history"
      ],
      "execution_count": 0,
      "outputs": []
    },
    {
      "cell_type": "code",
      "metadata": {
        "id": "2kVlrULmIExL",
        "colab_type": "code",
        "outputId": "26b6cec8-cecb-41b5-c084-0141575a0175",
        "colab": {
          "base_uri": "https://localhost:8080/",
          "height": 1000
        }
      },
      "source": [
        "import time\n",
        "trained_model, history = train_and_validate(model_1, loss_criterion, optimizer, epochs=20)"
      ],
      "execution_count": 0,
      "outputs": [
        {
          "output_type": "stream",
          "text": [
            "Epoch: 1/20\n",
            "Epoch : 000, Training: Loss: 0.6780, Accuracy: 59.3987%, \n",
            "\t\tValidation : Loss : 0.6221, Accuracy: 67.4242%, Time: 2157.1618s\n",
            "Epoch: 2/20\n",
            "Epoch : 001, Training: Loss: 0.5987, Accuracy: 67.7071%, \n",
            "\t\tValidation : Loss : 0.5547, Accuracy: 74.5868%, Time: 63.8297s\n",
            "Epoch: 3/20\n",
            "Epoch : 002, Training: Loss: 0.5425, Accuracy: 71.5630%, \n",
            "\t\tValidation : Loss : 0.5437, Accuracy: 71.7631%, Time: 62.9287s\n",
            "Epoch: 4/20\n",
            "Epoch : 003, Training: Loss: 0.5236, Accuracy: 73.1696%, \n",
            "\t\tValidation : Loss : 0.4847, Accuracy: 79.4077%, Time: 62.9013s\n",
            "Epoch: 5/20\n",
            "Epoch : 004, Training: Loss: 0.5025, Accuracy: 74.5467%, \n",
            "\t\tValidation : Loss : 0.4704, Accuracy: 79.7521%, Time: 63.1145s\n",
            "Epoch: 6/20\n",
            "Epoch : 005, Training: Loss: 0.4820, Accuracy: 76.0156%, \n",
            "\t\tValidation : Loss : 0.4500, Accuracy: 79.4077%, Time: 63.2791s\n",
            "Epoch: 7/20\n",
            "Epoch : 006, Training: Loss: 0.4690, Accuracy: 76.8878%, \n",
            "\t\tValidation : Loss : 0.4302, Accuracy: 83.0579%, Time: 63.4825s\n",
            "Epoch: 8/20\n",
            "Epoch : 007, Training: Loss: 0.4419, Accuracy: 78.7468%, \n",
            "\t\tValidation : Loss : 0.4136, Accuracy: 83.4711%, Time: 63.0834s\n",
            "Epoch: 9/20\n",
            "Epoch : 008, Training: Loss: 0.4207, Accuracy: 80.1469%, \n",
            "\t\tValidation : Loss : 0.4023, Accuracy: 83.6777%, Time: 63.3926s\n",
            "Epoch: 10/20\n",
            "Epoch : 009, Training: Loss: 0.3971, Accuracy: 81.0650%, \n",
            "\t\tValidation : Loss : 0.3916, Accuracy: 85.1928%, Time: 63.5585s\n",
            "Epoch: 11/20\n",
            "Epoch : 010, Training: Loss: 0.4001, Accuracy: 81.6158%, \n",
            "\t\tValidation : Loss : 0.3943, Accuracy: 84.7796%, Time: 63.6034s\n",
            "Epoch: 12/20\n",
            "Epoch : 011, Training: Loss: 0.3834, Accuracy: 82.7175%, \n",
            "\t\tValidation : Loss : 0.3786, Accuracy: 83.6777%, Time: 64.0221s\n",
            "Epoch: 13/20\n",
            "Epoch : 012, Training: Loss: 0.3839, Accuracy: 82.0519%, \n",
            "\t\tValidation : Loss : 0.3681, Accuracy: 85.1240%, Time: 63.8198s\n",
            "Epoch: 14/20\n",
            "Epoch : 013, Training: Loss: 0.3606, Accuracy: 83.5437%, \n",
            "\t\tValidation : Loss : 0.3763, Accuracy: 84.9174%, Time: 63.5963s\n",
            "Epoch: 15/20\n",
            "Epoch : 014, Training: Loss: 0.3741, Accuracy: 82.6027%, \n",
            "\t\tValidation : Loss : 0.3736, Accuracy: 84.6419%, Time: 63.6764s\n",
            "Epoch: 16/20\n",
            "Epoch : 015, Training: Loss: 0.3618, Accuracy: 83.4060%, \n",
            "\t\tValidation : Loss : 0.3751, Accuracy: 84.6419%, Time: 63.8278s\n",
            "Epoch: 17/20\n",
            "Epoch : 016, Training: Loss: 0.3315, Accuracy: 85.3798%, \n",
            "\t\tValidation : Loss : 0.3518, Accuracy: 85.0551%, Time: 63.9436s\n",
            "Epoch: 18/20\n",
            "Epoch : 017, Training: Loss: 0.3302, Accuracy: 85.0585%, \n",
            "\t\tValidation : Loss : 0.3678, Accuracy: 85.3306%, Time: 63.7536s\n",
            "Epoch: 19/20\n",
            "Epoch : 018, Training: Loss: 0.3226, Accuracy: 85.4717%, \n",
            "\t\tValidation : Loss : 0.3498, Accuracy: 84.2287%, Time: 63.6191s\n",
            "Epoch: 20/20\n",
            "Epoch : 019, Training: Loss: 0.3330, Accuracy: 84.9667%, \n",
            "\t\tValidation : Loss : 0.3477, Accuracy: 85.2617%, Time: 63.5678s\n"
          ],
          "name": "stdout"
        }
      ]
    },
    {
      "cell_type": "code",
      "metadata": {
        "id": "GpPWjh2eX-3Q",
        "colab_type": "code",
        "colab": {}
      },
      "source": [
        "torch.save(history, dataset+'_vggpcahistory.pt')"
      ],
      "execution_count": 0,
      "outputs": []
    },
    {
      "cell_type": "code",
      "metadata": {
        "id": "ouk1-oeoYR3x",
        "colab_type": "code",
        "outputId": "57f08d4d-127f-4edb-8267-25256b6ace79",
        "colab": {
          "base_uri": "https://localhost:8080/",
          "height": 317
        }
      },
      "source": [
        "history = np.array(history)\n",
        "plt.plot(history[:,0:2])\n",
        "plt.legend(['Tr Loss', 'Val Loss'])\n",
        "plt.xlabel('Epoch Number')\n",
        "plt.ylabel('Loss')\n",
        "plt.ylim(0,1)\n",
        "plt.savefig(dataset+'_loss_curve.png')\n",
        "plt.show()"
      ],
      "execution_count": 0,
      "outputs": [
        {
          "output_type": "execute_result",
          "data": {
            "text/plain": [
              "[<matplotlib.lines.Line2D at 0x7fd10a263630>,\n",
              " <matplotlib.lines.Line2D at 0x7fd10a263780>]"
            ]
          },
          "metadata": {
            "tags": []
          },
          "execution_count": 21
        },
        {
          "output_type": "execute_result",
          "data": {
            "text/plain": [
              "<matplotlib.legend.Legend at 0x7fd10a2638d0>"
            ]
          },
          "metadata": {
            "tags": []
          },
          "execution_count": 21
        },
        {
          "output_type": "execute_result",
          "data": {
            "text/plain": [
              "Text(0.5, 0, 'Epoch Number')"
            ]
          },
          "metadata": {
            "tags": []
          },
          "execution_count": 21
        },
        {
          "output_type": "execute_result",
          "data": {
            "text/plain": [
              "Text(0, 0.5, 'Loss')"
            ]
          },
          "metadata": {
            "tags": []
          },
          "execution_count": 21
        },
        {
          "output_type": "execute_result",
          "data": {
            "text/plain": [
              "(0, 1)"
            ]
          },
          "metadata": {
            "tags": []
          },
          "execution_count": 21
        },
        {
          "output_type": "display_data",
          "data": {
            "image/png": "[encoded data removed]",
            "text/plain": [
              "<Figure size 432x288 with 1 Axes>"
            ]
          },
          "metadata": {
            "tags": []
          }
        }
      ]
    },
    {
      "cell_type": "code",
      "metadata": {
        "id": "PcZ9pa-PYaXu",
        "colab_type": "code",
        "outputId": "713836b9-e08b-47fa-a72e-e631a1b33009",
        "colab": {
          "base_uri": "https://localhost:8080/",
          "height": 317
        }
      },
      "source": [
        "plt.plot(history[:,2:4])\n",
        "plt.legend(['Tr Accuracy', 'Val Accuracy'])\n",
        "plt.xlabel('Epoch Number')\n",
        "plt.ylabel('Accuracy')\n",
        "plt.ylim(0,1)\n",
        "plt.savefig(dataset+'_accuracy_curve.png')\n",
        "plt.show()"
      ],
      "execution_count": 0,
      "outputs": [
        {
          "output_type": "execute_result",
          "data": {
            "text/plain": [
              "[<matplotlib.lines.Line2D at 0x7fd10a18ccc0>,\n",
              " <matplotlib.lines.Line2D at 0x7fd10a18ce10>]"
            ]
          },
          "metadata": {
            "tags": []
          },
          "execution_count": 22
        },
        {
          "output_type": "execute_result",
          "data": {
            "text/plain": [
              "<matplotlib.legend.Legend at 0x7fd10a263eb8>"
            ]
          },
          "metadata": {
            "tags": []
          },
          "execution_count": 22
        },
        {
          "output_type": "execute_result",
          "data": {
            "text/plain": [
              "Text(0.5, 0, 'Epoch Number')"
            ]
          },
          "metadata": {
            "tags": []
          },
          "execution_count": 22
        },
        {
          "output_type": "execute_result",
          "data": {
            "text/plain": [
              "Text(0, 0.5, 'Accuracy')"
            ]
          },
          "metadata": {
            "tags": []
          },
          "execution_count": 22
        },
        {
          "output_type": "execute_result",
          "data": {
            "text/plain": [
              "(0, 1)"
            ]
          },
          "metadata": {
            "tags": []
          },
          "execution_count": 22
        },
        {
          "output_type": "display_data",
          "data": {
            "image/png": "[encoded data removed]",
            "text/plain": [
              "<Figure size 432x288 with 1 Axes>"
            ]
          },
          "metadata": {
            "tags": []
          }
        }
      ]
    },
    {
      "cell_type": "code",
      "metadata": {
        "id": "sSGoTQWoZA3_",
        "colab_type": "code",
        "colab": {}
      },
      "source": [
        "def computeTestSetAccuracy(model, loss_criterion):\n",
        "    '''\n",
        "    Function to compute the accuracy on the test set\n",
        "    Parameters\n",
        "        :param model: Model to test\n",
        "        :param loss_criterion: Loss Criterion to minimize\n",
        "    '''\n",
        "\n",
        "    device = torch.device(\"cuda:0\" if torch.cuda.is_available() else \"cpu\")\n",
        "\n",
        "    test_acc = 0.0\n",
        "    test_loss = 0.0\n",
        "\n",
        "    # Validation - No gradient tracking needed\n",
        "    with torch.no_grad():\n",
        "\n",
        "        # Set to evaluation mode\n",
        "        model.eval()\n",
        "\n",
        "        # Validation loop\n",
        "        for j, (inputs, labels) in enumerate(test_data_loader):\n",
        "            inputs = inputs.to(device)\n",
        "            labels = labels.to(device)\n",
        "\n",
        "            # Forward pass - compute outputs on input data using the model\n",
        "            outputs = model(inputs)\n",
        "\n",
        "            # Compute loss\n",
        "            loss = loss_criterion(outputs, labels)\n",
        "\n",
        "            # Compute the total loss for the batch and add it to valid_loss\n",
        "            test_loss += loss.item() * inputs.size(0)\n",
        "\n",
        "            # Calculate validation accuracy\n",
        "            ret, predictions = torch.max(outputs.data, 1)\n",
        "            correct_counts = predictions.eq(labels.data.view_as(predictions))\n",
        "\n",
        "            # Convert correct_counts to float and then compute the mean\n",
        "            acc = torch.mean(correct_counts.type(torch.FloatTensor))\n",
        "\n",
        "            # Compute total accuracy in the whole batch and add to valid_acc\n",
        "            test_acc += acc.item() * inputs.size(0)\n",
        "\n",
        "            print(\"Test Batch number: {:03d}, Test: Loss: {:.4f}, Accuracy: {:.4f}\".format(j, loss.item(), acc.item()))\n",
        "\n",
        "    # Find average test loss and test accuracy\n",
        "    avg_test_loss = test_loss/test_data_size \n",
        "    avg_test_acc = test_acc/test_data_size\n",
        "\n",
        "    print(\"Test accuracy : \" + str(avg_test_acc))"
      ],
      "execution_count": 0,
      "outputs": []
    },
    {
      "cell_type": "code",
      "metadata": {
        "id": "w-L2hpB4indM",
        "colab_type": "code",
        "colab": {}
      },
      "source": [
        "bestvggpca = torch.load('thecarconnectionpicturedataset2_modelwithpca_17.pt')"
      ],
      "execution_count": 0,
      "outputs": []
    },
    {
      "cell_type": "code",
      "metadata": {
        "id": "IeI6umYaZOFB",
        "colab_type": "code",
        "outputId": "0459dbbf-2cf0-449e-89ef-8a4f09984afb",
        "colab": {
          "base_uri": "https://localhost:8080/",
          "height": 238
        }
      },
      "source": [
        "computeTestSetAccuracy(bestvggpca, loss_criterion)"
      ],
      "execution_count": 0,
      "outputs": [
        {
          "output_type": "stream",
          "text": [
            "Test Batch number: 000, Test: Loss: 0.4068, Accuracy: 0.8359\n",
            "Test Batch number: 001, Test: Loss: 0.4288, Accuracy: 0.7812\n",
            "Test Batch number: 002, Test: Loss: 0.4050, Accuracy: 0.8281\n",
            "Test Batch number: 003, Test: Loss: 0.3795, Accuracy: 0.8281\n",
            "Test Batch number: 004, Test: Loss: 0.2557, Accuracy: 0.9219\n",
            "Test Batch number: 005, Test: Loss: 0.5088, Accuracy: 0.8516\n",
            "Test Batch number: 006, Test: Loss: 0.4391, Accuracy: 0.8125\n",
            "Test Batch number: 007, Test: Loss: 0.3262, Accuracy: 0.8828\n",
            "Test Batch number: 008, Test: Loss: 0.4138, Accuracy: 0.8438\n",
            "Test Batch number: 009, Test: Loss: 0.4018, Accuracy: 0.7734\n",
            "Test Batch number: 010, Test: Loss: 0.4011, Accuracy: 0.8281\n",
            "Test Batch number: 011, Test: Loss: 0.3752, Accuracy: 0.7500\n",
            "Test accuracy : 0.8326446280991735\n"
          ],
          "name": "stdout"
        }
      ]
    },
    {
      "cell_type": "code",
      "metadata": {
        "id": "T60BRiLON7BC",
        "colab_type": "code",
        "outputId": "d6920eb6-5e50-401f-8d09-d8457fa25bff",
        "colab": {
          "base_uri": "https://localhost:8080/",
          "height": 303,
          "referenced_widgets": [
            "ef168002e3734c3f8a3c0579d4616c3b",
            "07fc2621f72e4eeda1d62035d8f1950d",
            "245caf5f40c749ea8ac4c20f3d70a15d",
            "941b86df50844de8a99c8948a9bc9a5a",
            "3cd8fc2c4c544535a0bb012197e8af1e",
            "a99119b1ee3240eca3761359a72a3bf4",
            "4191440c146b4671a188328408c3a00b",
            "69ba5ec75c0044ceb279dc9a0484a367"
          ]
        }
      },
      "source": [
        "model_2 = torch.hub.load('pytorch/vision:v0.5.0', 'alexnet', pretrained=True)"
      ],
      "execution_count": 0,
      "outputs": [
        {
          "output_type": "stream",
          "text": [
            "Downloading: \"https://github.com/pytorch/vision/archive/v0.5.0.zip\" to /root/.cache/torch/hub/v0.5.0.zip\n",
            "Downloading: \"https://download.pytorch.org/models/alexnet-owt-4df8aa71.pth\" to /root/.cache/torch/checkpoints/alexnet-owt-4df8aa71.pth\n"
          ],
          "name": "stderr"
        },
        {
          "output_type": "display_data",
          "data": {
            "application/vnd.jupyter.widget-view+json": {
              "model_id": "ef168002e3734c3f8a3c0579d4616c3b",
              "version_minor": 0,
              "version_major": 2
            },
            "text/plain": [
              "HBox(children=(IntProgress(value=0, max=244418560), HTML(value='')))"
            ]
          },
          "metadata": {
            "tags": []
          }
        },
        {
          "output_type": "stream",
          "text": [
            "\n"
          ],
          "name": "stdout"
        }
      ]
    },
    {
      "cell_type": "code",
      "metadata": {
        "id": "NVWdH9zgqFNB",
        "colab_type": "code",
        "colab": {}
      },
      "source": [
        "# Freeze model weights\n",
        "for param in model_2.parameters():\n",
        "    param.requires_grad = False"
      ],
      "execution_count": 0,
      "outputs": []
    },
    {
      "cell_type": "code",
      "metadata": {
        "id": "0H1nIf_9qPet",
        "colab_type": "code",
        "colab": {}
      },
      "source": [
        "# Add on classifier\n",
        "model_2.classifier[6] = nn.Sequential(\n",
        "    nn.Linear(4096, 256), nn.ReLU(),\n",
        "    nn.Linear(256, 2),nn.LogSoftmax(dim=1))\n",
        "for param in model_2.classifier[6].parameters():\n",
        "    param.requires_grad = True"
      ],
      "execution_count": 0,
      "outputs": []
    },
    {
      "cell_type": "code",
      "metadata": {
        "id": "xfItnYCjr90v",
        "colab_type": "code",
        "colab": {}
      },
      "source": [
        "# checking if GPU is available if yes, then running on gpu\n",
        "if torch.cuda.is_available():\n",
        "    model_2 = model_2.cuda()"
      ],
      "execution_count": 0,
      "outputs": []
    },
    {
      "cell_type": "code",
      "metadata": {
        "id": "ErGgQC9Ahypd",
        "colab_type": "code",
        "outputId": "996bf668-dfa6-4f63-a485-c6e1dc1818fc",
        "colab": {
          "base_uri": "https://localhost:8080/",
          "height": 1000
        }
      },
      "source": [
        "import time\n",
        "trained_model_pca_alex, history_pca_alex = train_and_validate(model_2, loss_criterion, optimizer, epochs=20)"
      ],
      "execution_count": 0,
      "outputs": [
        {
          "output_type": "stream",
          "text": [
            "Epoch: 1/20\n",
            "Epoch : 000, Training: Loss: 0.6749, Accuracy: 62.9332%, \n",
            "\t\tValidation : Loss : 0.5739, Accuracy: 70.8678%, Time: 2159.0633s\n",
            "Epoch: 2/20\n",
            "Epoch : 001, Training: Loss: 0.5306, Accuracy: 72.5499%, \n",
            "\t\tValidation : Loss : 0.5031, Accuracy: 74.9311%, Time: 34.1084s\n",
            "Epoch: 3/20\n",
            "Epoch : 002, Training: Loss: 0.4720, Accuracy: 77.1632%, \n",
            "\t\tValidation : Loss : 0.4752, Accuracy: 77.8237%, Time: 34.3142s\n",
            "Epoch: 4/20\n",
            "Epoch : 003, Training: Loss: 0.4388, Accuracy: 78.1272%, \n",
            "\t\tValidation : Loss : 0.4541, Accuracy: 78.5124%, Time: 34.1258s\n",
            "Epoch: 5/20\n",
            "Epoch : 004, Training: Loss: 0.4088, Accuracy: 81.2256%, \n",
            "\t\tValidation : Loss : 0.4215, Accuracy: 82.0937%, Time: 34.9482s\n",
            "Epoch: 6/20\n",
            "Epoch : 005, Training: Loss: 0.3576, Accuracy: 83.4060%, \n",
            "\t\tValidation : Loss : 0.4161, Accuracy: 82.5758%, Time: 34.8132s\n",
            "Epoch: 7/20\n",
            "Epoch : 006, Training: Loss: 0.3351, Accuracy: 84.5077%, \n",
            "\t\tValidation : Loss : 0.4283, Accuracy: 82.0937%, Time: 34.1092s\n",
            "Epoch: 8/20\n",
            "Epoch : 007, Training: Loss: 0.3057, Accuracy: 86.3438%, \n",
            "\t\tValidation : Loss : 0.4039, Accuracy: 83.7466%, Time: 34.5465s\n",
            "Epoch: 9/20\n",
            "Epoch : 008, Training: Loss: 0.2857, Accuracy: 87.7209%, \n",
            "\t\tValidation : Loss : 0.4034, Accuracy: 82.1625%, Time: 35.2235s\n",
            "Epoch: 10/20\n",
            "Epoch : 009, Training: Loss: 0.2964, Accuracy: 87.3537%, \n",
            "\t\tValidation : Loss : 0.3927, Accuracy: 84.7796%, Time: 34.7724s\n",
            "Epoch: 11/20\n",
            "Epoch : 010, Training: Loss: 0.2647, Accuracy: 88.5242%, \n",
            "\t\tValidation : Loss : 0.4208, Accuracy: 81.4738%, Time: 34.8122s\n",
            "Epoch: 12/20\n",
            "Epoch : 011, Training: Loss: 0.2629, Accuracy: 88.6390%, \n",
            "\t\tValidation : Loss : 0.3928, Accuracy: 83.9532%, Time: 35.3530s\n",
            "Epoch: 13/20\n",
            "Epoch : 012, Training: Loss: 0.2483, Accuracy: 89.3734%, \n",
            "\t\tValidation : Loss : 0.4497, Accuracy: 81.6804%, Time: 34.8578s\n",
            "Epoch: 14/20\n",
            "Epoch : 013, Training: Loss: 0.2635, Accuracy: 88.5931%, \n",
            "\t\tValidation : Loss : 0.4100, Accuracy: 84.9862%, Time: 34.9395s\n",
            "Epoch: 15/20\n",
            "Epoch : 014, Training: Loss: 0.2245, Accuracy: 90.0620%, \n",
            "\t\tValidation : Loss : 0.4266, Accuracy: 84.3664%, Time: 34.9920s\n",
            "Epoch: 16/20\n",
            "Epoch : 015, Training: Loss: 0.2150, Accuracy: 90.8653%, \n",
            "\t\tValidation : Loss : 0.4114, Accuracy: 84.2287%, Time: 35.5420s\n",
            "Epoch: 17/20\n",
            "Epoch : 016, Training: Loss: 0.2219, Accuracy: 90.7735%, \n",
            "\t\tValidation : Loss : 0.4097, Accuracy: 85.6749%, Time: 36.2081s\n",
            "Epoch: 18/20\n",
            "Epoch : 017, Training: Loss: 0.2104, Accuracy: 90.8882%, \n",
            "\t\tValidation : Loss : 0.3964, Accuracy: 85.2617%, Time: 35.8096s\n",
            "Epoch: 19/20\n",
            "Epoch : 018, Training: Loss: 0.2019, Accuracy: 91.2095%, \n",
            "\t\tValidation : Loss : 0.4059, Accuracy: 86.5014%, Time: 35.3525s\n",
            "Epoch: 20/20\n",
            "Epoch : 019, Training: Loss: 0.2005, Accuracy: 91.4850%, \n",
            "\t\tValidation : Loss : 0.3874, Accuracy: 86.9835%, Time: 35.1900s\n"
          ],
          "name": "stdout"
        }
      ]
    },
    {
      "cell_type": "code",
      "metadata": {
        "id": "geIXTb3st68n",
        "colab_type": "code",
        "colab": {}
      },
      "source": [
        "torch.save(history_pca_alex, dataset+'_ALEXpcahistory.pt')"
      ],
      "execution_count": 0,
      "outputs": []
    },
    {
      "cell_type": "code",
      "metadata": {
        "id": "z-UcunqXt7Pk",
        "colab_type": "code",
        "outputId": "787d5c13-aa17-4e9f-a21b-53eb313920d1",
        "colab": {
          "base_uri": "https://localhost:8080/",
          "height": 349
        }
      },
      "source": [
        "history_pca_alex = np.array(history_pca_alex)\n",
        "plt.plot(history_pca_alex[:,0:2])\n",
        "plt.legend(['Tr Loss', 'Val Loss'])\n",
        "plt.xlabel('Epoch Number')\n",
        "plt.ylabel('Loss')\n",
        "plt.ylim(0,1)\n",
        "plt.title('Loss Comparison for AlexNet with PCA')\n",
        "plt.savefig(dataset+'_loss_curve.png')\n",
        "plt.show()"
      ],
      "execution_count": 0,
      "outputs": [
        {
          "output_type": "execute_result",
          "data": {
            "text/plain": [
              "[<matplotlib.lines.Line2D at 0x7f6130ee2da0>,\n",
              " <matplotlib.lines.Line2D at 0x7f6130ee2ef0>]"
            ]
          },
          "metadata": {
            "tags": []
          },
          "execution_count": 21
        },
        {
          "output_type": "execute_result",
          "data": {
            "text/plain": [
              "<matplotlib.legend.Legend at 0x7f6130ef0470>"
            ]
          },
          "metadata": {
            "tags": []
          },
          "execution_count": 21
        },
        {
          "output_type": "execute_result",
          "data": {
            "text/plain": [
              "Text(0.5, 0, 'Epoch Number')"
            ]
          },
          "metadata": {
            "tags": []
          },
          "execution_count": 21
        },
        {
          "output_type": "execute_result",
          "data": {
            "text/plain": [
              "Text(0, 0.5, 'Loss')"
            ]
          },
          "metadata": {
            "tags": []
          },
          "execution_count": 21
        },
        {
          "output_type": "execute_result",
          "data": {
            "text/plain": [
              "(0, 1)"
            ]
          },
          "metadata": {
            "tags": []
          },
          "execution_count": 21
        },
        {
          "output_type": "execute_result",
          "data": {
            "text/plain": [
              "Text(0.5, 1.0, 'Loss Comparison for AlexNet with PCA')"
            ]
          },
          "metadata": {
            "tags": []
          },
          "execution_count": 21
        },
        {
          "output_type": "display_data",
          "data": {
            "image/png": "[encoded data removed]",
            "text/plain": [
              "<Figure size 432x288 with 1 Axes>"
            ]
          },
          "metadata": {
            "tags": []
          }
        }
      ]
    },
    {
      "cell_type": "code",
      "metadata": {
        "id": "WQzIL3qNt7ZY",
        "colab_type": "code",
        "outputId": "c4124285-6f92-4efd-c704-af41558f1c94",
        "colab": {
          "base_uri": "https://localhost:8080/",
          "height": 349
        }
      },
      "source": [
        "plt.plot(history_pca_alex[:,2:4])\n",
        "plt.legend(['Tr Accuracy', 'Val Accuracy'])\n",
        "plt.xlabel('Epoch Number')\n",
        "plt.ylabel('Accuracy')\n",
        "plt.title('Accuracy Comparison for AlexNet with PCA')\n",
        "plt.ylim(0,1)\n",
        "plt.savefig(dataset+'_alexpca_accuracy_curve.png')\n",
        "plt.show()"
      ],
      "execution_count": 0,
      "outputs": [
        {
          "output_type": "execute_result",
          "data": {
            "text/plain": [
              "[<matplotlib.lines.Line2D at 0x7f61309745c0>,\n",
              " <matplotlib.lines.Line2D at 0x7f6130974710>]"
            ]
          },
          "metadata": {
            "tags": []
          },
          "execution_count": 23
        },
        {
          "output_type": "execute_result",
          "data": {
            "text/plain": [
              "<matplotlib.legend.Legend at 0x7f6130a28d68>"
            ]
          },
          "metadata": {
            "tags": []
          },
          "execution_count": 23
        },
        {
          "output_type": "execute_result",
          "data": {
            "text/plain": [
              "Text(0.5, 0, 'Epoch Number')"
            ]
          },
          "metadata": {
            "tags": []
          },
          "execution_count": 23
        },
        {
          "output_type": "execute_result",
          "data": {
            "text/plain": [
              "Text(0, 0.5, 'Accuracy')"
            ]
          },
          "metadata": {
            "tags": []
          },
          "execution_count": 23
        },
        {
          "output_type": "execute_result",
          "data": {
            "text/plain": [
              "Text(0.5, 1.0, 'Accuracy Comparison for AlexNet with PCA')"
            ]
          },
          "metadata": {
            "tags": []
          },
          "execution_count": 23
        },
        {
          "output_type": "execute_result",
          "data": {
            "text/plain": [
              "(0, 1)"
            ]
          },
          "metadata": {
            "tags": []
          },
          "execution_count": 23
        },
        {
          "output_type": "display_data",
          "data": {
            "image/png": "[encoded data removed]",
            "text/plain": [
              "<Figure size 432x288 with 1 Axes>"
            ]
          },
          "metadata": {
            "tags": []
          }
        }
      ]
    },
    {
      "cell_type": "code",
      "metadata": {
        "id": "Qu7aEbKIvQjv",
        "colab_type": "code",
        "colab": {}
      },
      "source": [
        "bestalexpca = torch.load('thecarconnectionpicturedataset2_alexnetwithpca_5.pt')"
      ],
      "execution_count": 0,
      "outputs": []
    },
    {
      "cell_type": "code",
      "metadata": {
        "id": "JL-pCnN6wFE0",
        "colab_type": "code",
        "outputId": "52367ccd-3122-46af-dbf1-e5884356512f",
        "colab": {
          "base_uri": "https://localhost:8080/",
          "height": 238
        }
      },
      "source": [
        "computeTestSetAccuracy(bestalexpca, loss_criterion)"
      ],
      "execution_count": 0,
      "outputs": [
        {
          "output_type": "stream",
          "text": [
            "Test Batch number: 000, Test: Loss: 0.4082, Accuracy: 0.8516\n",
            "Test Batch number: 001, Test: Loss: 0.3395, Accuracy: 0.8516\n",
            "Test Batch number: 002, Test: Loss: 0.4139, Accuracy: 0.8203\n",
            "Test Batch number: 003, Test: Loss: 0.3966, Accuracy: 0.8516\n",
            "Test Batch number: 004, Test: Loss: 0.4634, Accuracy: 0.7891\n",
            "Test Batch number: 005, Test: Loss: 0.4097, Accuracy: 0.8125\n",
            "Test Batch number: 006, Test: Loss: 0.3949, Accuracy: 0.8125\n",
            "Test Batch number: 007, Test: Loss: 0.4355, Accuracy: 0.7891\n",
            "Test Batch number: 008, Test: Loss: 0.4416, Accuracy: 0.8281\n",
            "Test Batch number: 009, Test: Loss: 0.2968, Accuracy: 0.8984\n",
            "Test Batch number: 010, Test: Loss: 0.5357, Accuracy: 0.7656\n",
            "Test Batch number: 011, Test: Loss: 0.4118, Accuracy: 0.8636\n",
            "Test accuracy : 0.825757576085976\n"
          ],
          "name": "stdout"
        }
      ]
    },
    {
      "cell_type": "code",
      "metadata": {
        "id": "hTaSPgriFPMC",
        "colab_type": "code",
        "colab": {}
      },
      "source": [
        ""
      ],
      "execution_count": 0,
      "outputs": []
    }
  ]
}